{
 "cells": [
  {
   "cell_type": "code",
   "execution_count": 11,
   "metadata": {},
   "outputs": [],
   "source": [
    "import numpy as np\n",
    "import scipy.stats\n",
    "from scipy.stats import t"
   ]
  },
  {
   "cell_type": "markdown",
   "metadata": {},
   "source": [
    "1. Confidence interval"
   ]
  },
  {
   "cell_type": "code",
   "execution_count": 36,
   "metadata": {},
   "outputs": [],
   "source": [
    "def mean_confidence_interval(data, confidence=0.95):\n",
    "    a = 1.0 * np.array(data)\n",
    "    n = len(a)\n",
    "    m, se = np.mean(a), scipy.stats.sem(a)\n",
    "    h = se * scipy.stats.t.ppf((1 + confidence) / 2., n-1)\n",
    "    return m, m-h, m+h"
   ]
  },
  {
   "cell_type": "code",
   "execution_count": 22,
   "metadata": {},
   "outputs": [],
   "source": [
    "data = [1] * 3 + [3] * 10 + [5] * 55 + [7] * 25 + [9] * 6"
   ]
  },
  {
   "cell_type": "code",
   "execution_count": 24,
   "metadata": {},
   "outputs": [
    {
     "data": {
      "text/plain": [
       "(5.424242424242424, 5.0955402783925665, 5.752944570092281)"
      ]
     },
     "execution_count": 24,
     "metadata": {},
     "output_type": "execute_result"
    }
   ],
   "source": [
    "mean_confidence_interval(data)"
   ]
  },
  {
   "cell_type": "markdown",
   "metadata": {},
   "source": [
    "1.1"
   ]
  },
  {
   "cell_type": "code",
   "execution_count": 54,
   "metadata": {},
   "outputs": [],
   "source": [
    "data_11 = [2630, 2820, 2900, 2810, 2770, 2840, 2700, 2950, 2690, 2720, 2800, 2970, 2680, 2660, 2820, 2580, 2840, 3020, 2780, 2920, 3060, 2840, 2550, 2790, 2850]"
   ]
  },
  {
   "cell_type": "markdown",
   "metadata": {},
   "source": [
    "confidence interval with students t"
   ]
  },
  {
   "cell_type": "code",
   "execution_count": 55,
   "metadata": {},
   "outputs": [
    {
     "data": {
      "text/plain": [
       "(2799.6, 2734.956118230584, 2864.243881769416)"
      ]
     },
     "execution_count": 55,
     "metadata": {},
     "output_type": "execute_result"
    }
   ],
   "source": [
    "mean_confidence_interval(data_11, 0.98)"
   ]
  },
  {
   "cell_type": "code",
   "execution_count": 56,
   "metadata": {},
   "outputs": [],
   "source": [
    "sigma = 120\n",
    "N = len(data_11)\n",
    "mu = np.mean(data_11)"
   ]
  },
  {
   "cell_type": "markdown",
   "metadata": {},
   "source": [
    "confidence interval for a single draw from a normal distribution with mean mu and std deviation sigma is"
   ]
  },
  {
   "cell_type": "code",
   "execution_count": 57,
   "metadata": {},
   "outputs": [
    {
     "data": {
      "text/plain": [
       "(2520.438255115099, 3078.761744884901)"
      ]
     },
     "execution_count": 57,
     "metadata": {},
     "output_type": "execute_result"
    }
   ],
   "source": [
    "scipy.stats.norm.interval(0.98, loc = 2799.6, scale=sigma)"
   ]
  },
  {
   "cell_type": "markdown",
   "metadata": {},
   "source": [
    "confidence interval for the mean of N draws from a normal distribution with mean mu and std deviation sigma is"
   ]
  },
  {
   "cell_type": "code",
   "execution_count": 58,
   "metadata": {},
   "outputs": [
    {
     "data": {
      "text/plain": [
       "(2743.76765102302, 2855.43234897698)"
      ]
     },
     "execution_count": 58,
     "metadata": {},
     "output_type": "execute_result"
    }
   ],
   "source": [
    "scipy.stats.norm.interval(0.98, loc=mu, scale=sigma/np.sqrt(N))"
   ]
  },
  {
   "cell_type": "markdown",
   "metadata": {},
   "source": [
    "1.2"
   ]
  },
  {
   "cell_type": "code",
   "execution_count": 70,
   "metadata": {},
   "outputs": [
    {
     "data": {
      "text/plain": [
       "(15.236983338508203, 16.763016661491797)"
      ]
     },
     "execution_count": 70,
     "metadata": {},
     "output_type": "execute_result"
    }
   ],
   "source": [
    "n = 10\n",
    "data_12 = [16.2, 15.4, 13.8, 18, 15.1, 17.3, 16.8, 15, 15.9, 16.5]\n",
    "m, se = np.mean(data), scipy.stats.sem(data)\n",
    "c = 0.95\n",
    "scipy.stats.norm.interval(0.95, loc = m, scale=se)"
   ]
  },
  {
   "cell_type": "markdown",
   "metadata": {},
   "source": [
    "1.3"
   ]
  },
  {
   "cell_type": "code",
   "execution_count": 71,
   "metadata": {},
   "outputs": [
    {
     "data": {
      "text/plain": [
       "(171.43999401843703, 171.80480598156296)"
      ]
     },
     "execution_count": 71,
     "metadata": {},
     "output_type": "execute_result"
    }
   ],
   "source": [
    "n = 1250\n",
    "data_13 = [161] * 15 + [163] * 27 + [165] * 44 + [167] * 103 + [169] * 211 + [171] * 303 + [173] * 230 + [175] * 162 + [177] * 95 + [179] * 30 + [181] * 18 + [183] * 12\n",
    "m, se = np.mean(data_13), scipy.stats.sem(data_13)\n",
    "c = 0.9\n",
    "scipy.stats.norm.interval(c, loc = m, scale=se)"
   ]
  },
  {
   "cell_type": "markdown",
   "metadata": {},
   "source": [
    "1.4"
   ]
  },
  {
   "cell_type": "code",
   "execution_count": 79,
   "metadata": {},
   "outputs": [
    {
     "data": {
      "text/plain": [
       "(403.17298718789425, 493.32701281210575)"
      ]
     },
     "execution_count": 79,
     "metadata": {},
     "output_type": "execute_result"
    }
   ],
   "source": [
    "n = 16\n",
    "data_14 = [435, 533, 393, 458, 525, 481, 324, 437, 348, 503, 383, 395, 416, 553, 500, 488]\n",
    "m, se = np.mean(data_14), 70\n",
    "c = 0.99\n",
    "scipy.stats.norm.interval(c, loc = m, scale=se/np.sqrt(n))"
   ]
  },
  {
   "cell_type": "markdown",
   "metadata": {},
   "source": [
    "1.5"
   ]
  },
  {
   "cell_type": "code",
   "execution_count": 82,
   "metadata": {},
   "outputs": [
    {
     "data": {
      "text/plain": [
       "(287.42071533658356, 403.57928466341696)"
      ]
     },
     "execution_count": 82,
     "metadata": {},
     "output_type": "execute_result"
    }
   ],
   "source": [
    "n = 26\n",
    "data_15 = [285, 339, 439, 262, 372, 149, 275, 452, 320, 460, 392, 272, 263, 379, 309, 358, 416, 454, 400, 315, 373, 370, 203, 505, 372, 249]\n",
    "m, se = np.mean(data_15), 90\n",
    "c = 0.999\n",
    "scipy.stats.norm.interval(c, loc = m, scale=se/np.sqrt(n))"
   ]
  },
  {
   "cell_type": "markdown",
   "metadata": {},
   "source": [
    "1.6"
   ]
  },
  {
   "cell_type": "code",
   "execution_count": 83,
   "metadata": {},
   "outputs": [
    {
     "data": {
      "text/plain": [
       "(41.67700426869556, 50.32299573130444)"
      ]
     },
     "execution_count": 83,
     "metadata": {},
     "output_type": "execute_result"
    }
   ],
   "source": [
    "n = 60\n",
    "m, se = 46, 13\n",
    "c = 0.99\n",
    "scipy.stats.norm.interval(c, loc = m, scale=se/np.sqrt(n))"
   ]
  },
  {
   "cell_type": "markdown",
   "metadata": {},
   "source": [
    "1.7"
   ]
  },
  {
   "cell_type": "code",
   "execution_count": 87,
   "metadata": {},
   "outputs": [
    {
     "data": {
      "text/plain": [
       "(0.6540506448553662, 0.6915493551446339)"
      ]
     },
     "execution_count": 87,
     "metadata": {},
     "output_type": "execute_result"
    }
   ],
   "source": [
    "n = 1000\n",
    "data_17 = [0.1] * 50 + [0.3] * 128 + [0.5] * 245 + [0.7] * 286 + [0.9] * 134 + [1.1] * 90 + [1.3] * 67\n",
    "c = 0.95\n",
    "m, se = np.mean(data_17), scipy.stats.sem(data_17)\n",
    "scipy.stats.norm.interval(c, loc = m, scale=se)"
   ]
  },
  {
   "cell_type": "markdown",
   "metadata": {},
   "source": [
    "1.8"
   ]
  },
  {
   "cell_type": "code",
   "execution_count": 88,
   "metadata": {},
   "outputs": [
    {
     "data": {
      "text/plain": [
       "(26.260187441709125, 26.539812558290873)"
      ]
     },
     "execution_count": 88,
     "metadata": {},
     "output_type": "execute_result"
    }
   ],
   "source": [
    "n = 400\n",
    "m, se = 26.4, 1.7\n",
    "c = 0.9\n",
    "scipy.stats.norm.interval(c, loc = m, scale=se/np.sqrt(n))"
   ]
  },
  {
   "cell_type": "markdown",
   "metadata": {},
   "source": [
    "1.9"
   ]
  },
  {
   "cell_type": "code",
   "execution_count": 90,
   "metadata": {},
   "outputs": [
    {
     "data": {
      "text/plain": [
       "(5.135103730494344, 5.864896269505655)"
      ]
     },
     "execution_count": 90,
     "metadata": {},
     "output_type": "execute_result"
    }
   ],
   "source": [
    "n = 132\n",
    "data_18 = [1] * 10 + [3] * 28 + [5] * 42 + [7] * 30 + [9] * 15 + [11] * 7\n",
    "c = 0.9\n",
    "m, se = np.mean(data_18), scipy.stats.sem(data_18)\n",
    "scipy.stats.norm.interval(c, loc = m, scale=se)"
   ]
  },
  {
   "cell_type": "markdown",
   "metadata": {},
   "source": [
    "1.10"
   ]
  },
  {
   "cell_type": "code",
   "execution_count": 91,
   "metadata": {},
   "outputs": [
    {
     "data": {
      "text/plain": [
       "(108.3584078754627, 131.64159212453728)"
      ]
     },
     "execution_count": 91,
     "metadata": {},
     "output_type": "execute_result"
    }
   ],
   "source": [
    "n = 200\n",
    "m, se = 120, 84\n",
    "c = 0.95\n",
    "scipy.stats.norm.interval(c, loc = m, scale=se/np.sqrt(n))"
   ]
  },
  {
   "cell_type": "markdown",
   "metadata": {},
   "source": [
    "1.11"
   ]
  },
  {
   "cell_type": "code",
   "execution_count": 106,
   "metadata": {},
   "outputs": [
    {
     "data": {
      "text/plain": [
       "(20.0, 16.081828859426746, 23.918171140573254)"
      ]
     },
     "execution_count": 106,
     "metadata": {},
     "output_type": "execute_result"
    }
   ],
   "source": [
    "n = 10\n",
    "data_111 = [10, 20, 16, 20, 18, 30, 24, 20, 17, 25]\n",
    "c = 0.95\n",
    "m, se = np.mean(data_111), scipy.stats.sem(data_111)\n",
    "mean_confidence_interval(data_111, c)"
   ]
  },
  {
   "cell_type": "markdown",
   "metadata": {},
   "source": [
    "1.12"
   ]
  },
  {
   "cell_type": "code",
   "execution_count": 107,
   "metadata": {},
   "outputs": [
    {
     "data": {
      "text/plain": [
       "(4.47, 4.165562154783035, 4.774437845216965)"
      ]
     },
     "execution_count": 107,
     "metadata": {},
     "output_type": "execute_result"
    }
   ],
   "source": [
    "n = 4\n",
    "data_112 = [4.33, 4.58, 4.47, 4.5]\n",
    "c = 0.99\n",
    "m, se = np.mean(data_112), scipy.stats.sem(data_112)\n",
    "mean_confidence_interval(data_112, c)"
   ]
  },
  {
   "cell_type": "markdown",
   "metadata": {},
   "source": [
    "1.13"
   ]
  },
  {
   "cell_type": "code",
   "execution_count": 109,
   "metadata": {},
   "outputs": [
    {
     "data": {
      "text/plain": [
       "(2.9650318897638304, 3.3263966816647397)"
      ]
     },
     "execution_count": 109,
     "metadata": {},
     "output_type": "execute_result"
    }
   ],
   "source": [
    "n = 21\n",
    "data_113 = [4, 3.35, 3.18, 2.89, 3.6, 3.05, 3.71, 3.3, 3.42, 2.96, 3.56, 2.97, 2.78, 2.39, 3.16, 3.04, 2.54, 2.59, 3.62, 3.28, 2.67]\n",
    "c = 0.95\n",
    "m, se = np.mean(data_113), scipy.stats.sem(data_113)\n",
    "scipy.stats.norm.interval(c, loc = m, scale=se)"
   ]
  },
  {
   "cell_type": "markdown",
   "metadata": {},
   "source": [
    "1.14"
   ]
  },
  {
   "cell_type": "code",
   "execution_count": 111,
   "metadata": {},
   "outputs": [
    {
     "data": {
      "text/plain": [
       "(31.447142857142858, 30.501075166033893, 32.39321054825182)"
      ]
     },
     "execution_count": 111,
     "metadata": {},
     "output_type": "execute_result"
    }
   ],
   "source": [
    "n = 7\n",
    "data_114 = [31.85, 31.36, 30.32, 30.9, 31.7, 32.4, 31.6]\n",
    "c = 0.99\n",
    "m, se = np.mean(data_114), scipy.stats.sem(data_114)\n",
    "mean_confidence_interval(data_114, c)"
   ]
  },
  {
   "cell_type": "markdown",
   "metadata": {},
   "source": [
    "1.15"
   ]
  },
  {
   "cell_type": "code",
   "execution_count": 112,
   "metadata": {},
   "outputs": [
    {
     "data": {
      "text/plain": [
       "(5.153904293804337, 5.206095706195662)"
      ]
     },
     "execution_count": 112,
     "metadata": {},
     "output_type": "execute_result"
    }
   ],
   "source": [
    "n = 12\n",
    "data_115 = [5.14, 5.21, 5.2, 5.16, 5.15, 5.17, 5.28, 5.19, 5.11, 5.18, 5.14, 5.23]\n",
    "c = 0.95\n",
    "m, se = np.mean(data_115), scipy.stats.sem(data_115)\n",
    "scipy.stats.norm.interval(c, loc = m, scale=se)"
   ]
  },
  {
   "cell_type": "markdown",
   "metadata": {},
   "source": [
    "1.16"
   ]
  },
  {
   "cell_type": "code",
   "execution_count": 115,
   "metadata": {},
   "outputs": [
    {
     "data": {
      "text/plain": [
       "(199.75222858864888, 203.54777141135116)"
      ]
     },
     "execution_count": 115,
     "metadata": {},
     "output_type": "execute_result"
    }
   ],
   "source": [
    "n = 80\n",
    "data_116 = [192] * 6 + [196] * 12 + [200] * 26 + [204] * 20 + [208] * 11 + [212] * 5\n",
    "c = 0.999\n",
    "m, se = np.mean(data_116), scipy.stats.sem(data_116)\n",
    "scipy.stats.norm.interval(c, loc = m, scale=se)"
   ]
  },
  {
   "cell_type": "markdown",
   "metadata": {},
   "source": [
    "1.17"
   ]
  },
  {
   "cell_type": "code",
   "execution_count": 116,
   "metadata": {},
   "outputs": [
    {
     "data": {
      "text/plain": [
       "(27.847743117878537, 32.55225688212146)"
      ]
     },
     "execution_count": 116,
     "metadata": {},
     "output_type": "execute_result"
    }
   ],
   "source": [
    "n = 50\n",
    "data_117 = [12.5] * 2 + [17.5] * 6 + [22.5] * 8 + [27.5] * 12 + [32.5] * 7 + [37.5] * 6 + [42.5] * 4 + [47.5] * 3 + [52.5] * 2\n",
    "c = 0.9\n",
    "m, se = np.mean(data_117), scipy.stats.sem(data_117)\n",
    "scipy.stats.norm.interval(c, loc = m, scale=se)"
   ]
  },
  {
   "cell_type": "markdown",
   "metadata": {},
   "source": [
    "1.18"
   ]
  },
  {
   "cell_type": "code",
   "execution_count": 119,
   "metadata": {},
   "outputs": [
    {
     "data": {
      "text/plain": [
       "(43.68421052631579, 39.0094320808146, 48.35898897181698)"
      ]
     },
     "execution_count": 119,
     "metadata": {},
     "output_type": "execute_result"
    }
   ],
   "source": [
    "n = 38\n",
    "data_118 = [20] * 4 + [30] * 6 + [40] * 12 + [50] * 7 + [60] * 6 + [70] * 3\n",
    "c = 0.95\n",
    "m, se = np.mean(data_118), scipy.stats.sem(data_118)\n",
    "mean_confidence_interval(data_118, c)"
   ]
  },
  {
   "cell_type": "markdown",
   "metadata": {},
   "source": [
    "1.19"
   ]
  },
  {
   "cell_type": "code",
   "execution_count": 120,
   "metadata": {},
   "outputs": [
    {
     "data": {
      "text/plain": [
       "(1.6, 1.2598329277721314, 1.9401670722278688)"
      ]
     },
     "execution_count": 120,
     "metadata": {},
     "output_type": "execute_result"
    }
   ],
   "source": [
    "n = 9\n",
    "data_119 = [1.7, 2, 1.8, 1.2, 1.5, 1.4, 2, 1.2, 1.6]\n",
    "c = 0.99\n",
    "mean_confidence_interval(data_119, c)"
   ]
  },
  {
   "cell_type": "markdown",
   "metadata": {},
   "source": [
    "1.20"
   ]
  },
  {
   "cell_type": "code",
   "execution_count": 121,
   "metadata": {},
   "outputs": [
    {
     "data": {
      "text/plain": [
       "(1463.0669119758402, 1496.9330880241598)"
      ]
     },
     "execution_count": 121,
     "metadata": {},
     "output_type": "execute_result"
    }
   ],
   "source": [
    "n = 206\n",
    "m, se = 1480, 124\n",
    "c = 0.95\n",
    "scipy.stats.norm.interval(c, loc = m, scale=se/np.sqrt(n))"
   ]
  },
  {
   "cell_type": "markdown",
   "metadata": {},
   "source": [
    "1.21"
   ]
  },
  {
   "cell_type": "code",
   "execution_count": 122,
   "metadata": {},
   "outputs": [
    {
     "data": {
      "text/plain": [
       "(0.20000000000000004, 0.19209084699444093, 0.20790915300555915)"
      ]
     },
     "execution_count": 122,
     "metadata": {},
     "output_type": "execute_result"
    }
   ],
   "source": [
    "n = 6\n",
    "data_121 = [0.195, 0.21, 0.189, 0.203, 0.198, 0.205]\n",
    "c = 0.95\n",
    "mean_confidence_interval(data_121, c)"
   ]
  },
  {
   "cell_type": "markdown",
   "metadata": {},
   "source": [
    "1.22"
   ]
  },
  {
   "cell_type": "code",
   "execution_count": 124,
   "metadata": {},
   "outputs": [
    {
     "data": {
      "text/plain": [
       "(39.83713276902742, 43.49620056430591)"
      ]
     },
     "execution_count": 124,
     "metadata": {},
     "output_type": "execute_result"
    }
   ],
   "source": [
    "n = 120\n",
    "data_121 = [20] * 10 + [30] * 25 + [40] * 40 + [50] * 30 + [60] * 10 + [70] * 5\n",
    "c = 0.9\n",
    "m, se = np.mean(data_121), scipy.stats.sem(data_121)\n",
    "scipy.stats.norm.interval(c, loc = m, scale=se)"
   ]
  },
  {
   "cell_type": "code",
   "execution_count": null,
   "metadata": {},
   "outputs": [],
   "source": []
  }
 ],
 "metadata": {
  "kernelspec": {
   "display_name": "Python 3",
   "language": "python",
   "name": "python3"
  },
  "language_info": {
   "codemirror_mode": {
    "name": "ipython",
    "version": 3
   },
   "file_extension": ".py",
   "mimetype": "text/x-python",
   "name": "python",
   "nbconvert_exporter": "python",
   "pygments_lexer": "ipython3",
   "version": "3.7.7"
  }
 },
 "nbformat": 4,
 "nbformat_minor": 4
}
