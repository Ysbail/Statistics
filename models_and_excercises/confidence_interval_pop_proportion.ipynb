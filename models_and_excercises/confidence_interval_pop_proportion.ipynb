{
 "cells": [
  {
   "cell_type": "code",
   "execution_count": 4,
   "metadata": {},
   "outputs": [],
   "source": [
    "import numpy as np\n",
    "import scipy.stats\n",
    "from scipy.stats import t"
   ]
  },
  {
   "cell_type": "markdown",
   "metadata": {},
   "source": [
    "example"
   ]
  },
  {
   "cell_type": "code",
   "execution_count": 5,
   "metadata": {},
   "outputs": [
    {
     "data": {
      "text/plain": [
       "(0.302518346374765, 0.36414832029190164)"
      ]
     },
     "execution_count": 5,
     "metadata": {},
     "output_type": "execute_result"
    }
   ],
   "source": [
    "data = [0] * 600 + [1] * 300\n",
    "n = 900\n",
    "m = 300\n",
    "c = 0.95\n",
    "m, se = np.mean(data), scipy.stats.sem(data)\n",
    "c = 0.95\n",
    "scipy.stats.norm.interval(0.95, loc = m, scale=se)"
   ]
  },
  {
   "cell_type": "markdown",
   "metadata": {},
   "source": [
    "1.23"
   ]
  },
  {
   "cell_type": "code",
   "execution_count": 9,
   "metadata": {},
   "outputs": [
    {
     "data": {
      "text/plain": [
       "(0.11725352051109242, 0.20274647948890756)"
      ]
     },
     "execution_count": 9,
     "metadata": {},
     "output_type": "execute_result"
    }
   ],
   "source": [
    "n = 200\n",
    "m = 32\n",
    "data = [0] * (n-m) + [1] * m\n",
    "m, se = np.mean(data), scipy.stats.sem(data)\n",
    "c = 0.9\n",
    "scipy.stats.norm.interval(c, loc = m, scale=se)"
   ]
  },
  {
   "cell_type": "markdown",
   "metadata": {},
   "source": [
    "1.24"
   ]
  },
  {
   "cell_type": "code",
   "execution_count": 10,
   "metadata": {},
   "outputs": [
    {
     "data": {
      "text/plain": [
       "(0.7877172754890192, 0.8622827245109808)"
      ]
     },
     "execution_count": 10,
     "metadata": {},
     "output_type": "execute_result"
    }
   ],
   "source": [
    "n = 400\n",
    "m = 330\n",
    "data = [0] * (n-m) + [1] * m\n",
    "m, se = np.mean(data), scipy.stats.sem(data)\n",
    "c = 0.95\n",
    "scipy.stats.norm.interval(c, loc = m, scale=se)"
   ]
  },
  {
   "cell_type": "markdown",
   "metadata": {},
   "source": [
    "1.25"
   ]
  },
  {
   "cell_type": "code",
   "execution_count": 26,
   "metadata": {},
   "outputs": [
    {
     "data": {
      "text/plain": [
       "(0.5223876374838415, 0.6897335746373706)"
      ]
     },
     "execution_count": 26,
     "metadata": {},
     "output_type": "execute_result"
    }
   ],
   "source": [
    "n = 132\n",
    "m = 330\n",
    "data_18 = [1] * 10 + [3] * 28 + [5] * 42 + [7] * 30 + [9] * 15 + [11] * 7\n",
    "data_18 = [1 if x < 6 else 0 for x in data_18]\n",
    "m, se = np.mean(data_18), scipy.stats.sem(data_18)\n",
    "c = 0.95\n",
    "scipy.stats.norm.interval(c, loc = m, scale=se)"
   ]
  },
  {
   "cell_type": "markdown",
   "metadata": {},
   "source": [
    "1.26"
   ]
  },
  {
   "cell_type": "code",
   "execution_count": null,
   "metadata": {},
   "outputs": [],
   "source": [
    "n = 1250\n",
    "data_13 = [161] * 15 + [163] * 27 + [165] * 44 + [167] * 103 + [169] * 211 + [171] * 303 + [173] * 230 + [175] * 162 + [177] * 95 + [179] * 30 + [181] * 18 + [183] * 12\n"
   ]
  }
 ],
 "metadata": {
  "kernelspec": {
   "display_name": "Python 3",
   "language": "python",
   "name": "python3"
  },
  "language_info": {
   "codemirror_mode": {
    "name": "ipython",
    "version": 3
   },
   "file_extension": ".py",
   "mimetype": "text/x-python",
   "name": "python",
   "nbconvert_exporter": "python",
   "pygments_lexer": "ipython3",
   "version": "3.7.7"
  }
 },
 "nbformat": 4,
 "nbformat_minor": 4
}
